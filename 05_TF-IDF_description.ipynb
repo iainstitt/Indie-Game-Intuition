{
 "cells": [
  {
   "cell_type": "markdown",
   "metadata": {},
   "source": [
    "# Prepare TF-IDF dictionary and corpus for game descriptions\n",
    "\n",
    "To engineer a feature that quantifies the similarity of a games description and the descriptions of the games a user currently owns, we have to generate a dictionary and corpus of words that we can feed to the tf-idf model. What the model does is vectirize word representations based on term frequency in each document (or description in this case). We cab then use these vectirized representations to compute how similar two different document vectors are. "
   ]
  },
  {
   "cell_type": "code",
   "execution_count": null,
   "metadata": {
    "collapsed": true
   },
   "outputs": [],
   "source": [
    "import logging\n",
    "import json\n",
    "from sqlalchemy import create_engine\n",
    "from sqlalchemy_utils import database_exists, create_database\n",
    "import psycopg2\n",
    "from gensim import corpora, models, similarities\n",
    "from nltk.tokenize import word_tokenize\n",
    "import pandas as pd\n",
    "import ast\n",
    "import re\n",
    "json_data=open(\"/home/iain/gameDict.json\").read()\n",
    "jsonFile = json.loads(json_data)\n",
    "\n",
    "logging.basicConfig(format='%(asctime)s : %(levelname)s : %(message)s', level=logging.INFO)"
   ]
  },
  {
   "cell_type": "code",
   "execution_count": null,
   "metadata": {},
   "outputs": [],
   "source": [
    "# Define SQL database info\n",
    "db_name  = 'UserInfo'\n",
    "username = 'username'\n",
    "host     = 'localhost'\n",
    "pwd      = 'password'\n",
    "port     = '5432'\n",
    "engine = create_engine('postgresql://{}:{}@{}:{}/{}'.format(username, pwd, host, port, db_name))\n",
    "print(engine.url)\n",
    "\n",
    "# connect to database:\n",
    "con = None\n",
    "con = psycopg2.connect(database = db_name, user = username, password = pwd, host = host)\n",
    "cur = con.cursor() # get a cursor to our current connection"
   ]
  },
  {
   "cell_type": "markdown",
   "metadata": {},
   "source": [
    "## Query game data"
   ]
  },
  {
   "cell_type": "code",
   "execution_count": null,
   "metadata": {
    "collapsed": true
   },
   "outputs": [],
   "source": [
    "# make a query to grab all game information\n",
    "create_table_sql = \"\"\"\n",
    "SELECT * FROM allGames WHERE detailedescription IS NOT NULL;\n",
    "\"\"\"\n",
    "games = pd.read_sql_query(create_table_sql,con)"
   ]
  },
  {
   "cell_type": "markdown",
   "metadata": {},
   "source": [
    "## Define function to preprocess game descriptions"
   ]
  },
  {
   "cell_type": "code",
   "execution_count": null,
   "metadata": {
    "collapsed": true
   },
   "outputs": [],
   "source": [
    "def preprocess_descriptions(description):\n",
    "    # Define a list of words that we will not include, since they do not convey meaning\n",
    "    try:\n",
    "        removelist = set('for a of the and to in on is or be as where it its at an - with by'.split())\n",
    "        description = re.sub(r\"\\s+\", \" \", description) # remove line breaks and tabs\n",
    "        description = re.sub(r\"<.*?>\", \"\", description) # remove <>\n",
    "        description = description.replace(\",\",\"\") # remove commas\n",
    "        description = description.replace(\".\",\"\") # remove periods\n",
    "        # Split text into a list of words\n",
    "        text = [word for word in description.lower().split() if word not in removelist]\n",
    "        return text\n",
    "    except:\n",
    "        return []"
   ]
  },
  {
   "cell_type": "markdown",
   "metadata": {},
   "source": [
    "## Make descriptions into lists of words"
   ]
  },
  {
   "cell_type": "code",
   "execution_count": null,
   "metadata": {
    "collapsed": true
   },
   "outputs": [],
   "source": [
    "# Load in game descriptions, and then preprocess the text for each game\n",
    "gameDescriptions = [preprocess_descriptions(document) for document in games.detailedescription.tolist()]"
   ]
  },
  {
   "cell_type": "markdown",
   "metadata": {},
   "source": [
    "## Get dictionary"
   ]
  },
  {
   "cell_type": "code",
   "execution_count": null,
   "metadata": {},
   "outputs": [],
   "source": [
    "# Generate a dictionary of tags from our preprocessed list of game tags\n",
    "dictionary = corpora.Dictionary(gameDescriptions)\n",
    "dictionary.save('/home/gameDescriptionDict.dict')  # store the dictionary, for future reference\n",
    "print(dictionary)"
   ]
  },
  {
   "cell_type": "markdown",
   "metadata": {},
   "source": [
    "## Get corpus"
   ]
  },
  {
   "cell_type": "code",
   "execution_count": null,
   "metadata": {
    "scrolled": true
   },
   "outputs": [],
   "source": [
    "# Generate a corpus matrix from the game descriptions \n",
    "corpus = [dictionary.doc2bow(text) for text in gameDescriptions]\n",
    "# Save the corpus to disk\n",
    "corpora.MmCorpus.serialize('/home/gameDescriptionCorpus.mm', corpus) "
   ]
  },
  {
   "cell_type": "markdown",
   "metadata": {},
   "source": [
    "## Initialize a tf-idf model"
   ]
  },
  {
   "cell_type": "code",
   "execution_count": null,
   "metadata": {},
   "outputs": [],
   "source": [
    "# Initialise a term-frequency inverse document frequency model based on the corpus\n",
    "tfidf = models.TfidfModel(corpus) \n",
    "corpus_tfidf = tfidf[corpus]"
   ]
  },
  {
   "cell_type": "markdown",
   "metadata": {},
   "source": [
    "## Initialize similarity index"
   ]
  },
  {
   "cell_type": "code",
   "execution_count": null,
   "metadata": {},
   "outputs": [],
   "source": [
    "# Initialise a similarity index using the stored index, corpus, and dictionary\n",
    "sims = similarities.Similarity('/home/',tfidf[corpus],num_features=len(dictionary))"
   ]
  },
  {
   "cell_type": "markdown",
   "metadata": {},
   "source": [
    "## Example use case:"
   ]
  },
  {
   "cell_type": "code",
   "execution_count": null,
   "metadata": {},
   "outputs": [],
   "source": [
    "# Now let's test the model on a hypothetical game with certain tags\n",
    "# Tokenize\n",
    "query = \"Fly to mars in a space ship and partake in warfare with some terrorist with your teammates and complete strategic missions.\"\n",
    "query_doc = [w.lower() for w in word_tokenize(query)]\n",
    "print(query_doc)\n",
    "# Compare to dictionary we computed on all other games\n",
    "query_doc_bow = dictionary.doc2bow(query_doc)\n",
    "print(query_doc_bow)\n",
    "# Vectorize word representation\n",
    "query_doc_tf_idf = tfidf[query_doc_bow]\n",
    "print(query_doc_tf_idf)\n",
    "query_similarity = sims[query_doc_tf_idf]\n",
    "print(query_similarity[:10])"
   ]
  }
 ],
 "metadata": {
  "kernelspec": {
   "display_name": "Python 3",
   "language": "python",
   "name": "python3"
  },
  "language_info": {
   "codemirror_mode": {
    "name": "ipython",
    "version": 3
   },
   "file_extension": ".py",
   "mimetype": "text/x-python",
   "name": "python",
   "nbconvert_exporter": "python",
   "pygments_lexer": "ipython3",
   "version": "3.6.1"
  }
 },
 "nbformat": 4,
 "nbformat_minor": 2
}
