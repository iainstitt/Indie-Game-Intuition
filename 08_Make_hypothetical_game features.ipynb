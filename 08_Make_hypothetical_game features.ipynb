{
 "cells": [
  {
   "cell_type": "markdown",
   "metadata": {},
   "source": [
    "## Generate 'hypothetical' game features\n",
    "\n",
    "I built this model as a tool that game developers can use to gauge how the Steam marketplace will respond to (or purchase) yet to be made games with hypothetical features. To illustrate how this may work in principle, I am going to show how the model predict the Steam marketplace would be engaged by two different games:\n",
    "- Half life 3 (one of the most anticipated games ever)\n",
    "- Euro Truck Simulator 3 (Sequel to a niche game)\n",
    "\n",
    "Below you can find how I have defined the features of these two hypothetical games. "
   ]
  },
  {
   "cell_type": "code",
   "execution_count": 1,
   "metadata": {
    "collapsed": true
   },
   "outputs": [],
   "source": [
    "import pandas as pd"
   ]
  },
  {
   "cell_type": "markdown",
   "metadata": {},
   "source": [
    "## Half-Life 3\n",
    "For the Half-Life 3 description I simply lifted the widely speculated plot of this game from the following blog post of a former Half-Life 3 creative writer: http://www.marclaidlaw.com/epistle-3/"
   ]
  },
  {
   "cell_type": "code",
   "execution_count": 2,
   "metadata": {
    "collapsed": true
   },
   "outputs": [],
   "source": [
    "halfLife_3_description = \"\"\"Dearest Playa,\n",
    "I hope this letter finds you well. I can hear your complaint already, “Gertie Fremont, we have not heard from you in ages!” Well, if you care to hear excuses, I have plenty, the greatest of them being I’ve been in other dimensions and whatnot, unable to reach you by the usual means. This was the case until eighteen months ago, when I experienced a critical change in my circumstances, and was redeposited on these shores. In the time since, I have been able to think occasionally about how best to describe the intervening years, my years of silence. I do first apologize for the wait, and that done, hasten to finally explain (albeit briefly, quickly, and in very little detail) events following those described in my previous letter (referred to herewith as Epistle 2).\n",
    "To begin with, as you may recall from the closing paragraphs of my previous missive, the death of Elly Vaunt shook us all. The Research & Rebellion team was traumatized, unable to be sure how much of our plan might be compromised, and whether it made any sense to go on at all as we had intended. And yet, once Elly had been buried, we found the strength and courage to regroup. It was the strong belief of her brave son, the feisty Alex Vaunt, that we should continue on as his mother had wished. We had the Antarctic coordinates, transmitted by Elly’s long-time assistant, Dr. Jerry Maas, which we believed to mark the location of the lost luxury liner Hyperborea. Elly had felt strongly that the Hyperborea should be destroyed rather than allow it to fall into the hands of the Disparate. Others on our team disagreed, believing that the Hyperborea might hold the secret to the revolution’s success. Either way, the arguments were moot until we found the vessel. Therefore, immediately after the service for Dr. Vaunt, Alex and I boarded a seaplane and set off for the Antarctic; a much larger support team, mainly militia, was to follow by separate transport.\n",
    "It is still unclear to me exactly what brought down our little aircraft. The following hours spent traversing the frigid waste in a blizzard are also a jumbled blur, ill-remembered and poorly defined. The next thing I clearly recall is our final approach to the coordinates Dr. Maas has provided, and where we expected to find the Hyperborea. What we found instead was a complex fortified installation, showing all the hallmarks of sinister Disparate technology. It surrounded a large open field of ice. Of the Hypnos itself there was no sign…or not at first. But as we stealthily infiltrated the Disparate installation, we noticed a recurent, strangely coherent auroral effect–as of a vast hologram fading in and out of view. This bizarre phenomenon initially seemed an effect caused by an immense Disparate lensing system, Alex and I soon realized that what we were actually seeing was the luxury liner Hyperborea itself, phasing in and out of existence at the focus of the Disparate devices. The aliens had erected their compound to study and seize the ship whenever it materialized. What Dr. Maas had provided were not coordinates for where the sub was located, but instead for where it was predicted to arrive. The liner was oscillating in and out of our reality, its pulses were gradually steadying, but there was no guarantee it would settle into place for long–or at all. We determined that we must put ourselves into position to board it at the instant it became completely physical.\n",
    "At this point we were briefly detained–not captured by the Disparate, as we feared at first, but by minions of our former nemesis, the conniving and duplicitous Wanda Bree. Dr. Bree was not as we had last seen her–which is to say, she was not dead. At some point, the Disparate had saved out an earlier version of her consciousness, and upon her physical demise, they had imprinted the back-up personality into a biological blank resembling an enormous slug. The Bree-Slug, despite occupying a position of relative power in the Disparate hierarchy, seemed nervous and frightened of me in particular. Wanda did not know how her previous incarnation, the original Dr. Bree, had died. She knew only that I was responsible. Therefore the slug treated us with great caution. Still, she soon confessed (never able to keep quiet for long) that she was herself a prisoner of the Disparate. She took no pleasure from her current grotesque existence, and pleaded with us to end her life. Alex believed that a quick death was more than Wanda Bree deserved, but for my part, I felt a modicum of pity and compassion. Out of Alex’s sight, I might have done something to hasten the slug’s demise before we proceeded.\n",
    "Not far from where we had been detained by Dr. Bree, we found Jerry Maas being held in a Disparate interrogation cell. Things were tense between Jerry and Alex, as might be imagined. Alex blamed Jerry for his mother’s death…news of which, Jerry was devastated to hear for the first time. Jerry tried to convince Alex that he had been a double agent serving the resistance all along, doing only what Elly had asked of him, even though he knew it meant he risked being seen by his peers–by all of us–as a traitor. I was convinced; Alex less so. But from a pragmatic point of view, we depended on Dr. Maas; for along with the Hyperborea coordinates, he possessed resonance keys which would be necessary to bring the liner fully into our plane of existence.\n",
    "We skirmished with Disparate soldiers protecting a Dispar research post, then Dr. Maas attuned the Hyperborea to precisely the frequencies needed to bring it into (brief) coherence. In the short time available to us, we scrambled aboard the ship, with an unknown number of Disparate agents close behind. The ship cohered for only a short time, and then its oscillations resume. It was too late for our own military support, which arrived and joined the Disparate forces in battle just as we rebounded between universes, once again unmoored.\n",
    "What happened next is even harder to explain. Alex Vaunt, Dr. Maas and myself sought control of the ship–its power source, its control room, its navigation center. The liner’s history proved nonlinear. Years before, during the Disparate invasion, various members of an earlier science team, working in the hull of a dry-docked liner situated at the Tocsin Island Research Base in Lake Huron, had assembled what they called the Bootstrap Device. If it worked as intended, it would emit a field large enough to surround the ship. This field would then itself travel instantaneously to any chosen destination without having to cover the intervening space. There was no need for entry or exit portals, or any other devices; it was entirely self-contained. Unfortunately, the device had never been tested. As the Disparate pushed Earth into the Nine Hour Armageddon, the aliens seized control of our most important research facilities. The staff of the Hyperborea, with no other wish than to keep the ship out of Disparate hands, acted in desperation. The switched on the field and flung the Hyperborea toward the most distant destination they could target: Antarctica. What they did not realize was that the Bootstrap Device travelled in time as well as space. Nor was it limited to one time or one location. The Hyperborea, and the moment of its activation, were stretched across space and time, between the nearly forgotten Lake Huron of the Nine Hour Armageddon and the present day Antarctic; it was pulled taut as an elastic band, vibrating, except where at certain points along its length one could find still points, like the harmonic spots along a vibrating guitar string. One of these harmonics was where we boarded, but the string ran forward and back, in both time and space, and we were soon pulled in every direction ourselves.\n",
    "Time grew confused. Looking from the bridge, we could see the drydocks of Tocsin Island at the moment of teleportation, just as the Disparate forces closed in from land, sea and air. At the same time, we could see the Antarctic wastelands, where our friends were fighting to make their way to the protean Hyperborea; and in addition, glimpses of other worlds, somewhere in the future perhaps, or even in the past. Alex grew convinced we were seeing one of the Disparate’s central staging areas for invading other worlds–such as our own. We meanwhile fought a running battle throughout the ship, pursued by Disparate forces. We struggled to understand our stiuation, and to agree on our course of action. Could we alter the course of the Hyperborea? Should we run it aground in the Antarctic, giving our peers the chance to study it? Should we destroy it with all hands aboard, our own included? It was impossible to hold a coherent thought, given the baffling and paradoxical timeloops, which passed through the ship like bubbles. I felt I was going mad, that we all were, confronting myriad versions of ourselves, in that ship that was half ghost-ship, half nightmare funhouse.\n",
    "What it came down to, at last, was a choice. Jerry Maas argued, reasonably, that we should save the Hyperborea and deliver it to the resistance, that our intelligent peers might study and harness its power. But Alex reminded me had sworn he would honor his mother’s demand that we destroy the ship. He hatched a plan to set the Hyperborea to self-destruct, while riding it into the heart of the Disparate’s invasion nexus. Jerry and Alex argued. Jerry overpowered Alex and brought the Hyperborea area, preparing to shut off the Bootstrap Device and settle the ship on the ice. Then I heard a shot, and Jerry fell. Alex had decided for all of us, or his weapon had. With Dr. Maas dead, we were committed to the suicide plunge. Grimly, Alex and I armed the Hyperborea, creating a time-travelling missile, and steered it for the heart of the Disparate’s command center.\n",
    "At this point, as you will no doubt be unsurprised to hear, a Certain Sinister Figure appeared, in the form of that sneering trickster, Mrs. X.  For once she appeared not to me, but to Alex Vaunt. Alex had not seen the cryptical schoolmarm since childhood, but he recognized her instantly. “Come along with me now, we’ve places to do and things to be,” said Mrs. X, and Alex acquiesced. He followed the strange grey lady out of the Hyperborea, out of our reality. For me, there was no convenient door held open; only a snicker and a sideways glance. I was left alone, riding the weaponized luxury liner into the heart of a Disparate world. An immense light blazed. I caught a cosmic view of a brilliantly glittering Dyson sphere. The vastness of the Disparate’s power, the futility of our struggle, blossomed briefly in my awareness. I saw everything. Mainly I saw how the Hyperborea, our most powerful weapon, would register as less than a fizzling matchhead as it blew itself apart. And what remained of me would be even less than that.\n",
    "Just then, as you have surely already foreseen, the Ghastlyhaunts parted their own checkered curtains of reality, reached in as they have on prior occasions, plucked me out, and set me aside. I barely got to see the fireworks begin.\n",
    "And here we are. I spoke of my return to this shore. It has been a circuitous path to lands I once knew, and surprising to see how much the terrain has changed. Enough time has passed that few remember me, or what I was saying when last I spoke, or what precisely we hoped to accomplish. At this point, the resistance will have failed or succeeded, no thanks to me. Old friends have been silenced, or fallen by the wayside. I no longer know or recognize most members of the research team, though I believe the spirit of rebellion still persists. I expect you know better than I the appropriate course of action, and I leave you to it. Except no further correspondence from me regarding these matters; this is my final epistle.\n",
    "Yours in infinite finality,\n",
    "Gertrude Fremont, Ph.D.\"\"\"\n",
    "\n",
    "halfLife_3_tags = ['FPS','Action','Sci-fi','Singleplayer','Story Rich','Shooter',\n",
    "                  'Adventure','First-Person','Dystopian','Atmospheric','Zombies',\n",
    "                  'Aliens','Great Soundtrack','Silent Protagonist','Physics','Multiplayer',\n",
    "                  'Horror','Moddable','Puzzle']\n",
    "\n",
    "hl3frame = pd.DataFrame()\n",
    "hl3frame['developers'] = ['Valve']\n",
    "hl3frame['final_price'] = [49.99]\n",
    "hl3frame['init_price'] = [49.99]\n",
    "hl3frame['genre']  = ['Action']\n",
    "hl3frame['metacriticscore'] = [86]\n",
    "hl3frame['releasedate'] = [20170701]\n",
    "hl3frame['tags'] = [halfLife_3_tags]\n",
    "hl3frame['detailedescription'] = halfLife_3_description\n",
    "hl3frame['gameid'] = [10000000]\n",
    "hl3frame['recommendations'] = 5000\n",
    "hl3frame.to_csv('/home/hl3frame')"
   ]
  },
  {
   "cell_type": "markdown",
   "metadata": {},
   "source": [
    "## Euro Trucker 3"
   ]
  },
  {
   "cell_type": "code",
   "execution_count": 4,
   "metadata": {
    "collapsed": true
   },
   "outputs": [],
   "source": [
    "euroTruck3_description = \"\"\" Euro Truck Simulator 3 gives you the chance to become a real \n",
    "truck driver from the comfort of your home! Featuring licensed trucks with countless \n",
    "customization options and advanced driving physics, the game delivers an unparalleled \n",
    "driving experience which has put it in the spot of the most popular truck driving simulator \n",
    "on the market. In game world features numerous landmarks and precisely recreated territories \n",
    "to create the ultimate experience, making you feel as if you were driving the trucks in real \n",
    "life! But let's not be fooled - Euro Truck Simulator 3 is not only about driving - the economy \n",
    "in game allows you to create and grow your own transportation company exactly as you see fit - \n",
    "the opportunities are endless! \"\"\"\n",
    "\n",
    "euroTruck3_tags = ['Simulation' , 'Driving' , 'Open World', 'Realistic', 'Relaxing',\n",
    "                   'Singleplayer', 'Exploration', 'Moddable', 'First-Person', 'Economy',\n",
    "                   'Indie', 'Adventure', 'Atmospheric', 'Management', 'TrackIR', 'Casual',\n",
    "                   'Sandbox', 'Racing', 'Action', 'RPG']\n",
    "\n",
    "euroTruck3 = pd.DataFrame()\n",
    "euroTruck3['developers'] = ['SCS Software']\n",
    "euroTruck3['final_price'] = [9.99]\n",
    "euroTruck3['init_price'] = [9.99]\n",
    "euroTruck3['genre']  = ['Indie']\n",
    "euroTruck3['metacriticscore'] = [83]\n",
    "euroTruck3['releasedate'] = [20170701]\n",
    "euroTruck3['tags'] = [euroTruck3_tags]\n",
    "euroTruck3['detailedescription'] = euroTruck3_description\n",
    "euroTruck3['gameid'] = [20000000]\n",
    "euroTruck3['recommendations'] = 15000\n",
    "euroTruck3.to_csv('/home/euroTruck3')"
   ]
  },
  {
   "cell_type": "code",
   "execution_count": null,
   "metadata": {
    "collapsed": true
   },
   "outputs": [],
   "source": []
  }
 ],
 "metadata": {
  "kernelspec": {
   "display_name": "Python 3",
   "language": "python",
   "name": "python3"
  },
  "language_info": {
   "codemirror_mode": {
    "name": "ipython",
    "version": 3
   },
   "file_extension": ".py",
   "mimetype": "text/x-python",
   "name": "python",
   "nbconvert_exporter": "python",
   "pygments_lexer": "ipython3",
   "version": "3.6.1"
  }
 },
 "nbformat": 4,
 "nbformat_minor": 2
}
