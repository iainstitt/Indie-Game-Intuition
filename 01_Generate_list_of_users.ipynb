{
 "cells": [
  {
   "cell_type": "markdown",
   "metadata": {},
   "source": [
    "# Generate list of root users\n",
    "\n",
    "In This script, I start with one root Steam user (Smiley), and using network search generate a larger list of users. The basic idea, is that by starting with one user that has at least some friends, we can look at this users friends, and then the friends of the users friends, and so on. Because of the architecture of social networks, we should be able to find nearly every Steam user using this network search approach after several iterations (provided they have friends, that is). "
   ]
  },
  {
   "cell_type": "code",
   "execution_count": 1,
   "metadata": {
    "collapsed": true
   },
   "outputs": [],
   "source": [
    "import requests\n",
    "import json\n",
    "from pandas.io.json import json_normalize\n",
    "import pandas as pd\n",
    "import numpy as np\n",
    "\n",
    "# Query Steam's API to load data for a certain user\n",
    "steamID = '76561197960434622' # smiley\n",
    "\n",
    "# Below we query a list of the Steam user ID's for smiley's friends\n",
    "key     = 'Insert your key here'\n",
    "method  = 'GetFriendList'\n",
    "currentUser = requests.get(\"http://api.steampowered.com/ISteamUser/{}/v0001/?key={}&steamid={}&relationship=friend\".format(method,key,steamID))\n",
    "json2pyData = json.loads(currentUser.content)\n",
    "rootFriends = pd.DataFrame(json2pyData['friendslist']['friends'])"
   ]
  },
  {
   "cell_type": "markdown",
   "metadata": {},
   "source": [
    "## Make a list containing the friends of Smiley's friends\n",
    "\n",
    "Here we loop through each of Smiley's friends, and then query a list of their friends. So the people in this list are second degree friends of Smiley. "
   ]
  },
  {
   "cell_type": "code",
   "execution_count": 4,
   "metadata": {},
   "outputs": [
    {
     "name": "stdout",
     "output_type": "stream",
     "text": [
      "Detected 27257 second degree friends of Smiley\n"
     ]
    }
   ],
   "source": [
    "allIDs = pd.DataFrame()\n",
    "i = 0\n",
    "for friend in rootFriends['steamid']:\n",
    "    i = i+1\n",
    "    method  = 'GetFriendList' # API method to get friends list\n",
    "    currentUser = requests.get(\"http://api.steampowered.com/ISteamUser/{}/v0001/?key={}&steamid={}&relationship=friend\".format(method,key,friend))\n",
    "    json2pyData = json.loads(currentUser.content)\n",
    "    try: \n",
    "        friends = pd.DataFrame(json2pyData['friendslist']['friends'])\n",
    "        tmpIDs  = friends['steamid']\n",
    "        allIDs = allIDs.append(friends,ignore_index=True)\n",
    "        print(\"Processing friend #{} of Smiley\".format(i),end = \"\\r\")\n",
    "    except:\n",
    "        pass\n",
    "print(\"Detected {} second degree friends of Smiley\".format(len(allIDs)))"
   ]
  },
  {
   "cell_type": "markdown",
   "metadata": {},
   "source": [
    "As you can see in the cell below, just this simple network search based off of one root user (Smiley in this case) yielded a list of more than 26 thousand unique Steam user ID's. "
   ]
  },
  {
   "cell_type": "code",
   "execution_count": 5,
   "metadata": {},
   "outputs": [
    {
     "name": "stdout",
     "output_type": "stream",
     "text": [
      "26475 unique friends of friends from root user (Smiley)\n"
     ]
    }
   ],
   "source": [
    "allIDs = allIDs.drop_duplicates()\n",
    "print(\"{} unique friends of friends from root user (Smiley)\".format(len(allIDs)))\n",
    "allIDs.to_pickle('alIDs_initial.pkl')"
   ]
  }
 ],
 "metadata": {
  "kernelspec": {
   "display_name": "Python 3",
   "language": "python",
   "name": "python3"
  },
  "language_info": {
   "codemirror_mode": {
    "name": "ipython",
    "version": 3
   },
   "file_extension": ".py",
   "mimetype": "text/x-python",
   "name": "python",
   "nbconvert_exporter": "python",
   "pygments_lexer": "ipython3",
   "version": "3.6.1"
  }
 },
 "nbformat": 4,
 "nbformat_minor": 2
}
