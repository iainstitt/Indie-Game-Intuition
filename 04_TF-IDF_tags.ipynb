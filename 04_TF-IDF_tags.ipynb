{
 "cells": [
  {
   "cell_type": "markdown",
   "metadata": {},
   "source": [
    "# Prepare TF-IDF dictionary and corpus for game tags\n",
    "\n",
    "To engineer a feature that quantifies the similarity of a games tags and the tags of the games a user currently owns, we have to generate a dictionary and corpus of words that we can feed to the tf-idf model. What the model does is vectirize word representations based on term frequency in each document (or tags in this case). We can then use these vectorized representations to compute how similar two different document vectors are."
   ]
  },
  {
   "cell_type": "code",
   "execution_count": null,
   "metadata": {
    "collapsed": true
   },
   "outputs": [],
   "source": [
    "import logging\n",
    "import json\n",
    "from sqlalchemy import create_engine\n",
    "from sqlalchemy_utils import database_exists, create_database\n",
    "import psycopg2\n",
    "from gensim import corpora, models, similarities\n",
    "from nltk.tokenize import word_tokenize\n",
    "import pandas as pd\n",
    "import ast\n",
    "import re\n",
    "json_data=open(\"/home/iain/gameDict.json\").read()\n",
    "jsonFile = json.loads(json_data)\n",
    "\n",
    "logging.basicConfig(format='%(asctime)s : %(levelname)s : %(message)s', level=logging.INFO)"
   ]
  },
  {
   "cell_type": "code",
   "execution_count": null,
   "metadata": {},
   "outputs": [],
   "source": [
    "# Define SQL database info\n",
    "db_name  = 'UserInfo'\n",
    "username = 'username'\n",
    "host     = 'localhost'\n",
    "pwd      = 'password'\n",
    "port     = '5432'\n",
    "engine = create_engine('postgresql://{}:{}@{}:{}/{}'.format(username, pwd, host, port, db_name))\n",
    "print(engine.url)\n",
    "\n",
    "# connect to database:\n",
    "con = None\n",
    "con = psycopg2.connect(database = db_name, user = username, password = pwd, host = host)\n",
    "cur = con.cursor() # get a cursor to our current connection"
   ]
  },
  {
   "cell_type": "markdown",
   "metadata": {},
   "source": [
    "## Query game data"
   ]
  },
  {
   "cell_type": "code",
   "execution_count": null,
   "metadata": {
    "collapsed": true
   },
   "outputs": [],
   "source": [
    "# make a query to grab all game information\n",
    "create_table_sql = \"\"\"\n",
    "SELECT * FROM allGames WHERE tags IS NOT NULL;\n",
    "\"\"\"\n",
    "games = pd.read_sql_query(create_table_sql,con)"
   ]
  },
  {
   "cell_type": "markdown",
   "metadata": {},
   "source": [
    "## Tokenize game tags"
   ]
  },
  {
   "cell_type": "code",
   "execution_count": null,
   "metadata": {
    "collapsed": true
   },
   "outputs": [],
   "source": [
    "# Tokenize each game \n",
    "documents   = [] # initialise documents\n",
    "allGameTags = games['tags'].values.tolist() # Get a list of all game lists (this is a string)\n",
    "for tags in allGameTags:\n",
    "    currentTags = ast.literal_eval(tags) # Evaluate to get in list form\n",
    "    documents.append(' '.join(currentTags)) # Join all together with spaces\n",
    "# Loop through each game and tokenize game tags\n",
    "texts = [[w.lower() for w in word_tokenize(document)] for document in documents]"
   ]
  },
  {
   "cell_type": "markdown",
   "metadata": {},
   "source": [
    "## Get dictionary from tags"
   ]
  },
  {
   "cell_type": "code",
   "execution_count": null,
   "metadata": {
    "scrolled": true
   },
   "outputs": [],
   "source": [
    "# Generate a dictionary of tags from our preprocessed list of game tags\n",
    "dictionary = corpora.Dictionary(texts)\n",
    "dictionary.save('/home/gameTagDict.dict')  # store the dictionary, for future reference\n",
    "print(dictionary)"
   ]
  },
  {
   "cell_type": "markdown",
   "metadata": {},
   "source": [
    "## Get corpus from tags"
   ]
  },
  {
   "cell_type": "code",
   "execution_count": null,
   "metadata": {
    "scrolled": true
   },
   "outputs": [],
   "source": [
    "# Generate a corpus matrix from the tags \n",
    "corpus = [dictionary.doc2bow(text) for text in texts]\n",
    "# Save the corpus to disk\n",
    "corpora.MmCorpus.serialize('/home/gameTagCorpus.mm', corpus) "
   ]
  },
  {
   "cell_type": "markdown",
   "metadata": {},
   "source": [
    "## Initialize tf-idf model"
   ]
  },
  {
   "cell_type": "code",
   "execution_count": null,
   "metadata": {},
   "outputs": [],
   "source": [
    "# Initialise a term-frequency inverse document frequency model based on the corpus\n",
    "tfidf = models.TfidfModel(corpus) \n",
    "corpus_tfidf = tfidf[corpus]"
   ]
  },
  {
   "cell_type": "markdown",
   "metadata": {},
   "source": [
    "## Initialize similarity index"
   ]
  },
  {
   "cell_type": "code",
   "execution_count": null,
   "metadata": {
    "scrolled": true
   },
   "outputs": [],
   "source": [
    "# Initialise a similarity index using the stored index, corpus, and dictionary\n",
    "sims = similarities.Similarity('/home/',tfidf[corpus],num_features=len(dictionary))"
   ]
  },
  {
   "cell_type": "markdown",
   "metadata": {},
   "source": [
    "## Example use case:"
   ]
  },
  {
   "cell_type": "code",
   "execution_count": null,
   "metadata": {},
   "outputs": [],
   "source": [
    "# Now let's test the model on a hypothetical game with certain tags\n",
    "# Tokenize\n",
    "query_doc = [w.lower() for w in word_tokenize(\"casual space indie FPS early access \")]\n",
    "print(query_doc)\n",
    "# Compare to dictionary we computed on all other games\n",
    "query_doc_bow = dictionary.doc2bow(query_doc)\n",
    "print(query_doc_bow)\n",
    "# Vectorize word representation\n",
    "query_doc_tf_idf = tfidf[query_doc_bow]\n",
    "print(query_doc_tf_idf)\n",
    "query_similarity = sims[query_doc_tf_idf]\n",
    "print(query_similarity[:10])"
   ]
  }
 ],
 "metadata": {
  "kernelspec": {
   "display_name": "Python 3",
   "language": "python",
   "name": "python3"
  },
  "language_info": {
   "codemirror_mode": {
    "name": "ipython",
    "version": 3
   },
   "file_extension": ".py",
   "mimetype": "text/x-python",
   "name": "python",
   "nbconvert_exporter": "python",
   "pygments_lexer": "ipython3",
   "version": "3.6.1"
  }
 },
 "nbformat": 4,
 "nbformat_minor": 2
}
